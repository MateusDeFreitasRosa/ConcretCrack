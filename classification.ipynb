{
 "cells": [
  {
   "cell_type": "code",
   "execution_count": 1,
   "id": "4a084688-cb7f-4b64-aa2c-0e4dcdd455e3",
   "metadata": {
    "scrolled": true
   },
   "outputs": [
    {
     "name": "stdout",
     "output_type": "stream",
     "text": [
      "Requirement already satisfied: tensorflow in c:\\anaconda3\\envs\\projectvale\\lib\\site-packages (2.15.0)\n",
      "Requirement already satisfied: keras in c:\\anaconda3\\envs\\projectvale\\lib\\site-packages (2.15.0)\n",
      "Requirement already satisfied: Pillow in c:\\anaconda3\\envs\\projectvale\\lib\\site-packages (10.1.0)\n",
      "Requirement already satisfied: scipy in c:\\anaconda3\\envs\\projectvale\\lib\\site-packages (1.11.4)\n",
      "Requirement already satisfied: tensorflow-intel==2.15.0 in c:\\anaconda3\\envs\\projectvale\\lib\\site-packages (from tensorflow) (2.15.0)\n",
      "Requirement already satisfied: absl-py>=1.0.0 in c:\\anaconda3\\envs\\projectvale\\lib\\site-packages (from tensorflow-intel==2.15.0->tensorflow) (2.0.0)\n",
      "Requirement already satisfied: astunparse>=1.6.0 in c:\\anaconda3\\envs\\projectvale\\lib\\site-packages (from tensorflow-intel==2.15.0->tensorflow) (1.6.3)\n",
      "Requirement already satisfied: flatbuffers>=23.5.26 in c:\\anaconda3\\envs\\projectvale\\lib\\site-packages (from tensorflow-intel==2.15.0->tensorflow) (23.5.26)\n",
      "Requirement already satisfied: gast!=0.5.0,!=0.5.1,!=0.5.2,>=0.2.1 in c:\\anaconda3\\envs\\projectvale\\lib\\site-packages (from tensorflow-intel==2.15.0->tensorflow) (0.5.4)\n",
      "Requirement already satisfied: google-pasta>=0.1.1 in c:\\anaconda3\\envs\\projectvale\\lib\\site-packages (from tensorflow-intel==2.15.0->tensorflow) (0.2.0)\n",
      "Requirement already satisfied: h5py>=2.9.0 in c:\\anaconda3\\envs\\projectvale\\lib\\site-packages (from tensorflow-intel==2.15.0->tensorflow) (3.10.0)\n",
      "Requirement already satisfied: libclang>=13.0.0 in c:\\anaconda3\\envs\\projectvale\\lib\\site-packages (from tensorflow-intel==2.15.0->tensorflow) (16.0.6)\n",
      "Requirement already satisfied: ml-dtypes~=0.2.0 in c:\\anaconda3\\envs\\projectvale\\lib\\site-packages (from tensorflow-intel==2.15.0->tensorflow) (0.2.0)\n",
      "Requirement already satisfied: numpy<2.0.0,>=1.23.5 in c:\\anaconda3\\envs\\projectvale\\lib\\site-packages (from tensorflow-intel==2.15.0->tensorflow) (1.26.2)\n",
      "Requirement already satisfied: opt-einsum>=2.3.2 in c:\\anaconda3\\envs\\projectvale\\lib\\site-packages (from tensorflow-intel==2.15.0->tensorflow) (3.3.0)\n",
      "Requirement already satisfied: packaging in c:\\anaconda3\\envs\\projectvale\\lib\\site-packages (from tensorflow-intel==2.15.0->tensorflow) (23.2)\n",
      "Requirement already satisfied: protobuf!=4.21.0,!=4.21.1,!=4.21.2,!=4.21.3,!=4.21.4,!=4.21.5,<5.0.0dev,>=3.20.3 in c:\\anaconda3\\envs\\projectvale\\lib\\site-packages (from tensorflow-intel==2.15.0->tensorflow) (4.23.4)\n",
      "Requirement already satisfied: setuptools in c:\\anaconda3\\envs\\projectvale\\lib\\site-packages (from tensorflow-intel==2.15.0->tensorflow) (68.0.0)\n",
      "Requirement already satisfied: six>=1.12.0 in c:\\anaconda3\\envs\\projectvale\\lib\\site-packages (from tensorflow-intel==2.15.0->tensorflow) (1.16.0)\n",
      "Requirement already satisfied: termcolor>=1.1.0 in c:\\anaconda3\\envs\\projectvale\\lib\\site-packages (from tensorflow-intel==2.15.0->tensorflow) (2.4.0)\n",
      "Requirement already satisfied: typing-extensions>=3.6.6 in c:\\anaconda3\\envs\\projectvale\\lib\\site-packages (from tensorflow-intel==2.15.0->tensorflow) (4.8.0)\n",
      "Requirement already satisfied: wrapt<1.15,>=1.11.0 in c:\\anaconda3\\envs\\projectvale\\lib\\site-packages (from tensorflow-intel==2.15.0->tensorflow) (1.14.1)\n",
      "Requirement already satisfied: tensorflow-io-gcs-filesystem>=0.23.1 in c:\\anaconda3\\envs\\projectvale\\lib\\site-packages (from tensorflow-intel==2.15.0->tensorflow) (0.31.0)\n",
      "Requirement already satisfied: grpcio<2.0,>=1.24.3 in c:\\anaconda3\\envs\\projectvale\\lib\\site-packages (from tensorflow-intel==2.15.0->tensorflow) (1.60.0)\n",
      "Requirement already satisfied: tensorboard<2.16,>=2.15 in c:\\anaconda3\\envs\\projectvale\\lib\\site-packages (from tensorflow-intel==2.15.0->tensorflow) (2.15.1)\n",
      "Requirement already satisfied: tensorflow-estimator<2.16,>=2.15.0 in c:\\anaconda3\\envs\\projectvale\\lib\\site-packages (from tensorflow-intel==2.15.0->tensorflow) (2.15.0)\n",
      "Requirement already satisfied: wheel<1.0,>=0.23.0 in c:\\anaconda3\\envs\\projectvale\\lib\\site-packages (from astunparse>=1.6.0->tensorflow-intel==2.15.0->tensorflow) (0.41.2)\n",
      "Requirement already satisfied: google-auth<3,>=1.6.3 in c:\\anaconda3\\envs\\projectvale\\lib\\site-packages (from tensorboard<2.16,>=2.15->tensorflow-intel==2.15.0->tensorflow) (2.25.1)\n",
      "Requirement already satisfied: google-auth-oauthlib<2,>=0.5 in c:\\anaconda3\\envs\\projectvale\\lib\\site-packages (from tensorboard<2.16,>=2.15->tensorflow-intel==2.15.0->tensorflow) (1.1.0)\n",
      "Requirement already satisfied: markdown>=2.6.8 in c:\\anaconda3\\envs\\projectvale\\lib\\site-packages (from tensorboard<2.16,>=2.15->tensorflow-intel==2.15.0->tensorflow) (3.5.1)\n",
      "Requirement already satisfied: requests<3,>=2.21.0 in c:\\anaconda3\\envs\\projectvale\\lib\\site-packages (from tensorboard<2.16,>=2.15->tensorflow-intel==2.15.0->tensorflow) (2.31.0)\n",
      "Requirement already satisfied: tensorboard-data-server<0.8.0,>=0.7.0 in c:\\anaconda3\\envs\\projectvale\\lib\\site-packages (from tensorboard<2.16,>=2.15->tensorflow-intel==2.15.0->tensorflow) (0.7.2)\n",
      "Requirement already satisfied: werkzeug>=1.0.1 in c:\\anaconda3\\envs\\projectvale\\lib\\site-packages (from tensorboard<2.16,>=2.15->tensorflow-intel==2.15.0->tensorflow) (3.0.1)\n",
      "Requirement already satisfied: cachetools<6.0,>=2.0.0 in c:\\anaconda3\\envs\\projectvale\\lib\\site-packages (from google-auth<3,>=1.6.3->tensorboard<2.16,>=2.15->tensorflow-intel==2.15.0->tensorflow) (5.3.2)\n",
      "Requirement already satisfied: pyasn1-modules>=0.2.1 in c:\\anaconda3\\envs\\projectvale\\lib\\site-packages (from google-auth<3,>=1.6.3->tensorboard<2.16,>=2.15->tensorflow-intel==2.15.0->tensorflow) (0.3.0)\n",
      "Requirement already satisfied: rsa<5,>=3.1.4 in c:\\anaconda3\\envs\\projectvale\\lib\\site-packages (from google-auth<3,>=1.6.3->tensorboard<2.16,>=2.15->tensorflow-intel==2.15.0->tensorflow) (4.9)\n",
      "Requirement already satisfied: requests-oauthlib>=0.7.0 in c:\\anaconda3\\envs\\projectvale\\lib\\site-packages (from google-auth-oauthlib<2,>=0.5->tensorboard<2.16,>=2.15->tensorflow-intel==2.15.0->tensorflow) (1.3.1)\n",
      "Requirement already satisfied: charset-normalizer<4,>=2 in c:\\anaconda3\\envs\\projectvale\\lib\\site-packages (from requests<3,>=2.21.0->tensorboard<2.16,>=2.15->tensorflow-intel==2.15.0->tensorflow) (3.3.2)\n",
      "Requirement already satisfied: idna<4,>=2.5 in c:\\anaconda3\\envs\\projectvale\\lib\\site-packages (from requests<3,>=2.21.0->tensorboard<2.16,>=2.15->tensorflow-intel==2.15.0->tensorflow) (3.6)\n",
      "Requirement already satisfied: urllib3<3,>=1.21.1 in c:\\anaconda3\\envs\\projectvale\\lib\\site-packages (from requests<3,>=2.21.0->tensorboard<2.16,>=2.15->tensorflow-intel==2.15.0->tensorflow) (2.1.0)\n",
      "Requirement already satisfied: certifi>=2017.4.17 in c:\\anaconda3\\envs\\projectvale\\lib\\site-packages (from requests<3,>=2.21.0->tensorboard<2.16,>=2.15->tensorflow-intel==2.15.0->tensorflow) (2023.11.17)\n",
      "Requirement already satisfied: MarkupSafe>=2.1.1 in c:\\anaconda3\\envs\\projectvale\\lib\\site-packages (from werkzeug>=1.0.1->tensorboard<2.16,>=2.15->tensorflow-intel==2.15.0->tensorflow) (2.1.3)\n",
      "Requirement already satisfied: pyasn1<0.6.0,>=0.4.6 in c:\\anaconda3\\envs\\projectvale\\lib\\site-packages (from pyasn1-modules>=0.2.1->google-auth<3,>=1.6.3->tensorboard<2.16,>=2.15->tensorflow-intel==2.15.0->tensorflow) (0.5.1)\n",
      "Requirement already satisfied: oauthlib>=3.0.0 in c:\\anaconda3\\envs\\projectvale\\lib\\site-packages (from requests-oauthlib>=0.7.0->google-auth-oauthlib<2,>=0.5->tensorboard<2.16,>=2.15->tensorflow-intel==2.15.0->tensorflow) (3.2.2)\n"
     ]
    }
   ],
   "source": [
    "!pip install tensorflow keras Pillow scipy"
   ]
  },
  {
   "cell_type": "code",
   "execution_count": 2,
   "id": "a31db42a-f17a-4c9c-8c94-478fd534df97",
   "metadata": {},
   "outputs": [
    {
     "name": "stdout",
     "output_type": "stream",
     "text": [
      "Requirement already satisfied: tqdm in c:\\anaconda3\\envs\\projectvale\\lib\\site-packages (4.66.1)\n",
      "Requirement already satisfied: colorama in c:\\anaconda3\\envs\\projectvale\\lib\\site-packages (from tqdm) (0.4.6)\n",
      "Note: you may need to restart the kernel to use updated packages.\n"
     ]
    }
   ],
   "source": [
    "pip install tqdm"
   ]
  },
  {
   "cell_type": "code",
   "execution_count": 3,
   "id": "7cb6641c-f8f3-4910-a636-47e1f6247fb8",
   "metadata": {},
   "outputs": [
    {
     "name": "stdout",
     "output_type": "stream",
     "text": [
      "WARNING:tensorflow:From C:\\anaconda3\\envs\\ProjectVale\\lib\\site-packages\\keras\\src\\losses.py:2976: The name tf.losses.sparse_softmax_cross_entropy is deprecated. Please use tf.compat.v1.losses.sparse_softmax_cross_entropy instead.\n",
      "\n"
     ]
    }
   ],
   "source": [
    "import os\n",
    "import numpy as np\n",
    "from tensorflow.keras.models import Sequential\n",
    "from tensorflow.keras.layers import Conv2D, MaxPooling2D, Flatten, Dense, Dropout\n",
    "from tensorflow.keras.preprocessing.image import ImageDataGenerator\n"
   ]
  },
  {
   "cell_type": "code",
   "execution_count": 4,
   "id": "a3d9201d-647e-4af5-a997-5f671a2e71c7",
   "metadata": {},
   "outputs": [],
   "source": [
    "import os\n",
    "\n",
    "def contar_arquivos(diretorio):\n",
    "    return len([nome for nome in os.listdir(diretorio) if os.path.isfile(os.path.join(diretorio, nome))])"
   ]
  },
  {
   "cell_type": "code",
   "execution_count": 5,
   "id": "042b1014-f394-4281-baf6-724d1a72f36d",
   "metadata": {},
   "outputs": [],
   "source": [
    "uri_dataset_positivo = 'dataset/Positive'\n",
    "uri_dataset_negativo = 'dataset/Negative'"
   ]
  },
  {
   "cell_type": "code",
   "execution_count": 6,
   "id": "c966c564-d880-4726-be4f-145c4b270e65",
   "metadata": {},
   "outputs": [],
   "source": [
    "qntde_positivos = contar_arquivos(uri_dataset_positivo)\n",
    "qntde_negativos = contar_arquivos(uri_dataset_negativo)"
   ]
  },
  {
   "cell_type": "code",
   "execution_count": 7,
   "id": "276c5f9c-efdc-4e7d-bc69-98b7c7da4a65",
   "metadata": {},
   "outputs": [
    {
     "name": "stdout",
     "output_type": "stream",
     "text": [
      "Quantidade de imagens com rachaduras: 20000\n",
      "Quantidade de imagens sem rachaduras: 20000\n"
     ]
    }
   ],
   "source": [
    "print('Quantidade de imagens com rachaduras: {}'.format(qntde_positivos))\n",
    "print('Quantidade de imagens sem rachaduras: {}'.format(qntde_negativos))"
   ]
  },
  {
   "cell_type": "code",
   "execution_count": 8,
   "id": "e3983695-1528-4359-aa8e-0e6dffe1ac02",
   "metadata": {},
   "outputs": [
    {
     "data": {
      "text/plain": [
       "(0.8, 0.2)"
      ]
     },
     "execution_count": 8,
     "metadata": {},
     "output_type": "execute_result"
    }
   ],
   "source": [
    "tx_train = round(.8, 3)\n",
    "tx_test = round(1-tx_train, 3)\n",
    "\n",
    "(tx_train, tx_test)"
   ]
  },
  {
   "cell_type": "markdown",
   "id": "a36bac28-7e34-4808-8277-7efc8af53112",
   "metadata": {},
   "source": [
    "## Pre-Processamento"
   ]
  },
  {
   "cell_type": "code",
   "execution_count": 41,
   "id": "69395554-ca01-43d9-8c27-d73182412cb7",
   "metadata": {},
   "outputs": [],
   "source": [
    "from PIL import Image\n",
    "import os"
   ]
  },
  {
   "cell_type": "code",
   "execution_count": 43,
   "id": "0b3bb1f8-7b9f-484d-8edc-ed2e3bd7a601",
   "metadata": {},
   "outputs": [],
   "source": [
    "def convert_to_grayscale(img):\n",
    "    \"\"\" Converte uma imagem para escala de cinza. \"\"\"\n",
    "    return img.convert('L')\n",
    "\n",
    "def resize_image(img, size=(128, 128)):\n",
    "    \"\"\" Redimensiona uma imagem para o tamanho especificado. \"\"\"\n",
    "    return img.resize(size)"
   ]
  },
  {
   "cell_type": "code",
   "execution_count": 108,
   "id": "02579f60-ec1e-421d-a071-2f39b2499597",
   "metadata": {},
   "outputs": [],
   "source": [
    "# Caminho do diretório\n",
    "dir_path = 'dataset_organized/train/positives/'\n",
    "\n",
    "# Ler as primeiras 3 imagens\n",
    "image_files = os.listdir(dir_path)[:3]\n",
    "images = [Image.open(os.path.join(dir_path, file)) for file in image_files]\n",
    "\n"
   ]
  },
  {
   "cell_type": "code",
   "execution_count": 109,
   "id": "584d45b8-a6ee-4664-81b3-81ab267dd2b6",
   "metadata": {},
   "outputs": [
    {
     "data": {
      "image/jpeg": "[encoded data removed]",
      "image/png": "[encoded data removed]",
      "text/plain": [
       "<PIL.JpegImagePlugin.JpegImageFile image mode=L size=128x128>"
      ]
     },
     "execution_count": 109,
     "metadata": {},
     "output_type": "execute_result"
    }
   ],
   "source": [
    "images[0]"
   ]
  },
  {
   "cell_type": "code",
   "execution_count": 110,
   "id": "0980fd25-1761-4a9a-bcf1-b253038b60e9",
   "metadata": {},
   "outputs": [
    {
     "data": {
      "text/plain": [
       "(128, 128)"
      ]
     },
     "execution_count": 110,
     "metadata": {},
     "output_type": "execute_result"
    }
   ],
   "source": [
    "np.asarray(images[0]).shape"
   ]
  },
  {
   "cell_type": "code",
   "execution_count": 47,
   "id": "25bffaa0-7999-4f63-9b29-6c56e52a21a3",
   "metadata": {},
   "outputs": [],
   "source": [
    "# Processamento das imagens\n",
    "grayscale_images = [convert_to_grayscale(img) for img in images]"
   ]
  },
  {
   "cell_type": "code",
   "execution_count": 48,
   "id": "47d30bb3-13c6-479c-8e00-ef3ad858e024",
   "metadata": {},
   "outputs": [],
   "source": [
    "resized_images = [resize_image(img) for img in grayscale_images]"
   ]
  },
  {
   "cell_type": "code",
   "execution_count": 63,
   "id": "0f16e1a2-b291-4cbd-aa09-139de6ac7bb8",
   "metadata": {},
   "outputs": [
    {
     "data": {
      "text/plain": [
       "(128, 128)"
      ]
     },
     "execution_count": 63,
     "metadata": {},
     "output_type": "execute_result"
    }
   ],
   "source": [
    "np.asarray(resized_images[0]).shape"
   ]
  },
  {
   "cell_type": "code",
   "execution_count": 52,
   "id": "3cca27ca-a83b-4152-a9b3-935d0bac1c8e",
   "metadata": {},
   "outputs": [
    {
     "data": {
      "image/jpeg": "[encoded data removed]",
      "image/png": "[encoded data removed]",
      "text/plain": [
       "<PIL.Image.Image image mode=L size=128x128>"
      ]
     },
     "execution_count": 52,
     "metadata": {},
     "output_type": "execute_result"
    }
   ],
   "source": [
    "resized_images[0]."
   ]
  },
  {
   "cell_type": "code",
   "execution_count": 50,
   "id": "8fc1fb40-0a6e-4af8-8295-b0253988d130",
   "metadata": {},
   "outputs": [],
   "source": [
    "# Exibir as imagens processadas (opcional)\n",
    "for img in resized_images:\n",
    "    img.show()\n"
   ]
  },
  {
   "cell_type": "code",
   "execution_count": null,
   "id": "f22b1c1b-bf63-4fcf-9c0d-a84936cac580",
   "metadata": {},
   "outputs": [],
   "source": []
  },
  {
   "cell_type": "code",
   "execution_count": null,
   "id": "c98c619a-bc26-4605-a80c-e8703f78af14",
   "metadata": {},
   "outputs": [],
   "source": []
  },
  {
   "cell_type": "code",
   "execution_count": null,
   "id": "97853c60-d629-4467-aaca-490d352d0909",
   "metadata": {},
   "outputs": [],
   "source": []
  },
  {
   "cell_type": "code",
   "execution_count": null,
   "id": "840c4c47-959a-4663-a57e-dc7f316e6b96",
   "metadata": {},
   "outputs": [],
   "source": []
  },
  {
   "cell_type": "code",
   "execution_count": null,
   "id": "a7745483-053e-4101-ae27-b9d8e4b28147",
   "metadata": {},
   "outputs": [],
   "source": []
  },
  {
   "cell_type": "markdown",
   "id": "f2a4aba8-c124-45ce-bd50-6371dd67d3ce",
   "metadata": {},
   "source": [
    "## Vamos criar um novo repositório para a organização dos datasets.\n",
    "\n",
    "> A ideia é separar os datasets em treino e teste."
   ]
  },
  {
   "cell_type": "code",
   "execution_count": 67,
   "id": "c753b83b-f0d6-4c60-a964-831f219bfdaa",
   "metadata": {},
   "outputs": [],
   "source": [
    "import os\n",
    "import random\n",
    "import shutil\n",
    "from tqdm import tqdm\n",
    "from PIL import Image\n",
    "\n",
    "def convert_to_grayscale(img):\n",
    "    \"\"\" Converte uma imagem para escala de cinza. \"\"\"\n",
    "    return img.convert('L')\n",
    "\n",
    "def resize_image(img, size=(128, 128)):\n",
    "    \"\"\" Redimensiona uma imagem para o tamanho especificado. \"\"\"\n",
    "    return img.resize(size)\n",
    "\n",
    "def dividir_e_copiar_arquivos(diretorio_origem, diretorio_treino, diretorio_teste, taxa_treino):\n",
    "    # Cria os diretórios de treino e teste, se necessário\n",
    "    if not os.path.exists(diretorio_treino):\n",
    "        os.makedirs(diretorio_treino)\n",
    "    if not os.path.exists(diretorio_teste):\n",
    "        os.makedirs(diretorio_teste)\n",
    "\n",
    "    # Lista todos os arquivos no diretório de origem\n",
    "    arquivos = [arquivo for arquivo in os.listdir(diretorio_origem) if os.path.isfile(os.path.join(diretorio_origem, arquivo))]\n",
    "    random.shuffle(arquivos)\n",
    "\n",
    "    # Determina o ponto de corte para a divisão dos dados\n",
    "    ponto_corte = int(len(arquivos) * taxa_treino)\n",
    "    arquivos_treino = arquivos[:ponto_corte]\n",
    "    arquivos_teste = arquivos[ponto_corte:]\n",
    "\n",
    "    # Pré-processa e copia os arquivos para os diretórios de treino e teste com uma barra de progresso\n",
    "    for arquivo in tqdm(arquivos_treino, desc=\"Copiando arquivos de treino\"):\n",
    "        img = Image.open(os.path.join(diretorio_origem, arquivo))\n",
    "        img = convert_to_grayscale(img)\n",
    "        img = resize_image(img)\n",
    "        img.save(os.path.join(diretorio_treino, arquivo))\n",
    "\n",
    "    for arquivo in tqdm(arquivos_teste, desc=\"Copiando arquivos de teste\"):\n",
    "        img = Image.open(os.path.join(diretorio_origem, arquivo))\n",
    "        img = convert_to_grayscale(img)\n",
    "        img = resize_image(img)\n",
    "        img.save(os.path.join(diretorio_teste, arquivo))\n",
    "\n",
    "# Exemplo de uso da função\n",
    "# dividir_e_copiar_arquivos('caminho_para_o_diretorio_origem', 'caminho_para_o_diretorio_treino', 'caminho_para_o_diretorio_teste', 0.8)\n"
   ]
  },
  {
   "cell_type": "code",
   "execution_count": 68,
   "id": "20bf1575-7eb3-41a5-ab11-b45c50b33d89",
   "metadata": {},
   "outputs": [],
   "source": [
    "# Caminho do diretório a ser verificado\n",
    "dir_path = 'dataset_organized'\n",
    "\n",
    "# Verificar se o diretório existe\n",
    "if os.path.exists(dir_path):\n",
    "    # Remover o diretório e seu conteúdo\n",
    "    try:\n",
    "        os.rmdir(dir_path)\n",
    "        message = \"Diretório 'dataset_organized' foi excluído com sucesso.\"\n",
    "    except OSError as error:\n",
    "        message = f\"Erro ao excluir o diretório: {error}\"\n",
    "else:\n",
    "    message = \"O diretório 'dataset_organized' não existe.\""
   ]
  },
  {
   "cell_type": "code",
   "execution_count": 69,
   "id": "a4dc6edb-577c-43d3-8110-e0d7cc39ef61",
   "metadata": {},
   "outputs": [],
   "source": [
    "dir_positives_train = f'{dir_path}/train/positives/'\n",
    "dir_negatives_train = f'{dir_path}/train/negatives/'\n",
    "dir_positives_test = f'{dir_path}/test/positives/'\n",
    "dir_negatives_test = f'{dir_path}/test/negatives/'"
   ]
  },
  {
   "cell_type": "code",
   "execution_count": 70,
   "id": "8999bec6-497d-4d6f-8f6f-021316d7bc39",
   "metadata": {},
   "outputs": [
    {
     "name": "stderr",
     "output_type": "stream",
     "text": [
      "Copiando arquivos de treino: 100%|██████████████████████████████████████████████| 16000/16000 [01:00<00:00, 265.88it/s]\n",
      "Copiando arquivos de teste: 100%|█████████████████████████████████████████████████| 4000/4000 [00:10<00:00, 363.77it/s]"
     ]
    },
    {
     "name": "stdout",
     "output_type": "stream",
     "text": [
      "CPU times: total: 48.7 s\n",
      "Wall time: 1min 13s\n"
     ]
    },
    {
     "name": "stderr",
     "output_type": "stream",
     "text": [
      "\n"
     ]
    }
   ],
   "source": [
    "%%time\n",
    "dividir_e_copiar_arquivos(uri_dataset_positivo, dir_positives_train, dir_positives_test, tx_train)"
   ]
  },
  {
   "cell_type": "code",
   "execution_count": 71,
   "id": "a2261a5b-26f5-423c-8fb1-df82c0585588",
   "metadata": {},
   "outputs": [
    {
     "name": "stderr",
     "output_type": "stream",
     "text": [
      "Copiando arquivos de treino: 100%|██████████████████████████████████████████████| 16000/16000 [00:48<00:00, 332.12it/s]\n",
      "Copiando arquivos de teste: 100%|█████████████████████████████████████████████████| 4000/4000 [00:10<00:00, 364.73it/s]"
     ]
    },
    {
     "name": "stdout",
     "output_type": "stream",
     "text": [
      "CPU times: total: 46 s\n",
      "Wall time: 1min 1s\n"
     ]
    },
    {
     "name": "stderr",
     "output_type": "stream",
     "text": [
      "\n"
     ]
    }
   ],
   "source": [
    "%%time\n",
    "dividir_e_copiar_arquivos(uri_dataset_negativo, dir_negatives_train, dir_negatives_test, tx_train)"
   ]
  },
  {
   "cell_type": "markdown",
   "id": "32e5e9af-956e-430d-96ad-cc2ca9e8488d",
   "metadata": {},
   "source": [
    "### Carregar dados"
   ]
  },
  {
   "cell_type": "code",
   "execution_count": 97,
   "id": "9c4d35fc-309a-459f-b85d-5141c51f9f19",
   "metadata": {},
   "outputs": [],
   "source": [
    "import os\n",
    "from tensorflow.keras.models import Sequential\n",
    "from tensorflow.keras.layers import Conv2D, MaxPooling2D, Flatten, Dense\n",
    "from tensorflow.keras.preprocessing.image import ImageDataGenerator"
   ]
  },
  {
   "cell_type": "code",
   "execution_count": 98,
   "id": "08a4213b-9307-4eeb-9412-cead926ba50e",
   "metadata": {},
   "outputs": [],
   "source": [
    "# Caminhos para os diretórios\n",
    "train_dir = 'dataset_organized/train/'\n",
    "test_dir = 'dataset_organized/test/'"
   ]
  },
  {
   "cell_type": "code",
   "execution_count": 99,
   "id": "69f0c107-6646-4de4-95ba-3cc66467db86",
   "metadata": {},
   "outputs": [],
   "source": [
    "# Criação dos geradores de dados\n",
    "train_datagen = ImageDataGenerator(rescale=1./255)\n",
    "test_datagen = ImageDataGenerator(rescale=1./255)"
   ]
  },
  {
   "cell_type": "code",
   "execution_count": 112,
   "id": "47b0700b-c4d6-491b-806a-2c5816a0b119",
   "metadata": {},
   "outputs": [
    {
     "name": "stdout",
     "output_type": "stream",
     "text": [
      "Found 32000 images belonging to 2 classes.\n"
     ]
    }
   ],
   "source": [
    "train_generator = train_datagen.flow_from_directory(\n",
    "    train_dir,\n",
    "    target_size=(128, 128),\n",
    "    batch_size=32,\n",
    "    class_mode='binary', color_mode='grayscale')"
   ]
  },
  {
   "cell_type": "code",
   "execution_count": 142,
   "id": "35606bd0-3063-40e2-96cf-f0aea507fc24",
   "metadata": {},
   "outputs": [
    {
     "name": "stdout",
     "output_type": "stream",
     "text": [
      "Found 8000 images belonging to 2 classes.\n"
     ]
    }
   ],
   "source": [
    "test_generator = test_datagen.flow_from_directory(\n",
    "    test_dir,\n",
    "    target_size=(128, 128),\n",
    "    batch_size=32,\n",
    "    class_mode='binary',color_mode='grayscale', shuffle=False)"
   ]
  },
  {
   "cell_type": "code",
   "execution_count": 161,
   "id": "d40dea27-5b32-4a8d-8915-3984a52b06d6",
   "metadata": {},
   "outputs": [
    {
     "name": "stdout",
     "output_type": "stream",
     "text": [
      "Model: \"sequential_14\"\n",
      "_________________________________________________________________\n",
      " Layer (type)                Output Shape              Param #   \n",
      "=================================================================\n",
      " conv2d_42 (Conv2D)          (None, 126, 126, 32)      320       \n",
      "                                                                 \n",
      " conv2d_43 (Conv2D)          (None, 30, 30, 64)        131136    \n",
      "                                                                 \n",
      " conv2d_44 (Conv2D)          (None, 14, 14, 128)       73856     \n",
      "                                                                 \n",
      " max_pooling2d_39 (MaxPooli  (None, 7, 7, 128)         0         \n",
      " ng2D)                                                           \n",
      "                                                                 \n",
      " flatten_14 (Flatten)        (None, 6272)              0         \n",
      "                                                                 \n",
      " dense_39 (Dense)            (None, 512)               3211776   \n",
      "                                                                 \n",
      " dropout_22 (Dropout)        (None, 512)               0         \n",
      "                                                                 \n",
      " dense_40 (Dense)            (None, 256)               131328    \n",
      "                                                                 \n",
      " dropout_23 (Dropout)        (None, 256)               0         \n",
      "                                                                 \n",
      " dense_41 (Dense)            (None, 1)                 257       \n",
      "                                                                 \n",
      "=================================================================\n",
      "Total params: 3548673 (13.54 MB)\n",
      "Trainable params: 3548673 (13.54 MB)\n",
      "Non-trainable params: 0 (0.00 Byte)\n",
      "_________________________________________________________________\n"
     ]
    }
   ],
   "source": [
    "# Construção do modelo\n",
    "model = Sequential([\n",
    "    Conv2D(32, (3, 3), activation='relu', input_shape=(128, 128, 1)),\n",
    "    Conv2D(64, (8, 8), strides=(4, 4), activation='relu'),\n",
    "    #MaxPooling2D(2, 2),\n",
    "    Conv2D(128, (3, 3), strides=(2, 2), activation='relu'),\n",
    "    MaxPooling2D(2, 2),\n",
    "    Flatten(),\n",
    "    Dense(512, activation='relu'),\n",
    "    Dropout(.2),\n",
    "    Dense(256, activation='relu'),\n",
    "    Dropout(.2),\n",
    "    Dense(1, activation='sigmoid')\n",
    "])\n",
    "\n",
    "# Compilação do modelo\n",
    "model.compile(loss='binary_crossentropy', optimizer='adam', metrics=['accuracy'])\n",
    "\n",
    "model.summary()"
   ]
  },
  {
   "cell_type": "code",
   "execution_count": 162,
   "id": "cfa4bebc-1f69-499e-9d4f-f81d09a5adbb",
   "metadata": {},
   "outputs": [
    {
     "name": "stdout",
     "output_type": "stream",
     "text": [
      "Requirement already satisfied: scipy in c:\\anaconda3\\envs\\projectvale\\lib\\site-packages (1.11.4)\n",
      "Requirement already satisfied: numpy<1.28.0,>=1.21.6 in c:\\anaconda3\\envs\\projectvale\\lib\\site-packages (from scipy) (1.26.2)\n"
     ]
    }
   ],
   "source": [
    "!pip install scipy"
   ]
  },
  {
   "cell_type": "code",
   "execution_count": 163,
   "id": "13df7573-f37d-448a-ab41-e2440688dfe6",
   "metadata": {},
   "outputs": [],
   "source": [
    "import scipy\n",
    "from scipy import stats  # Exemplo para o submódulo 'stats'\n"
   ]
  },
  {
   "cell_type": "code",
   "execution_count": 164,
   "id": "0bb14b21-1a35-436b-a608-be7091f54548",
   "metadata": {
    "scrolled": true
   },
   "outputs": [
    {
     "name": "stdout",
     "output_type": "stream",
     "text": [
      "Epoch 1/3\n",
      "1000/1000 [==============================] - 414s 410ms/step - loss: 0.0706 - accuracy: 0.9711 - val_loss: 0.0390 - val_accuracy: 0.9872\n",
      "Epoch 2/3\n",
      "1000/1000 [==============================] - 350s 350ms/step - loss: 0.0343 - accuracy: 0.9895 - val_loss: 0.0491 - val_accuracy: 0.9816\n",
      "Epoch 3/3\n",
      "1000/1000 [==============================] - 309s 309ms/step - loss: 0.0219 - accuracy: 0.9934 - val_loss: 0.0293 - val_accuracy: 0.9929\n"
     ]
    },
    {
     "data": {
      "text/plain": [
       "<keras.src.callbacks.History at 0x1c98f91a380>"
      ]
     },
     "execution_count": 164,
     "metadata": {},
     "output_type": "execute_result"
    }
   ],
   "source": [
    "# Treinando o modelo\n",
    "batch_size = 32\n",
    "model.fit(\n",
    "    train_generator,\n",
    "    steps_per_epoch=train_generator.samples // batch_size,\n",
    "    epochs=3,\n",
    "    validation_data=test_generator,\n",
    "    validation_steps=test_generator.samples // batch_size\n",
    ")"
   ]
  },
  {
   "cell_type": "code",
   "execution_count": 165,
   "id": "e3aebf64-2616-441a-847e-7246aa87385d",
   "metadata": {},
   "outputs": [
    {
     "data": {
      "text/plain": [
       "{'negatives': 0, 'positives': 1}"
      ]
     },
     "execution_count": 165,
     "metadata": {},
     "output_type": "execute_result"
    }
   ],
   "source": [
    "train_generator.class_indices"
   ]
  },
  {
   "cell_type": "code",
   "execution_count": null,
   "id": "421262bc-5dc3-42ea-8519-4c1d8a1679f1",
   "metadata": {},
   "outputs": [],
   "source": []
  },
  {
   "cell_type": "code",
   "execution_count": 166,
   "id": "d32a1d7b-8571-41fd-9f53-1d38db2a2bde",
   "metadata": {},
   "outputs": [
    {
     "name": "stdout",
     "output_type": "stream",
     "text": [
      "250/250 [==============================] - 18s 72ms/step\n"
     ]
    }
   ],
   "source": [
    "# Fazer predições\n",
    "predictions = model.predict(test_generator)\n",
    "predicted_classes = np.where(predictions > 0.5, 1, 0)"
   ]
  },
  {
   "cell_type": "code",
   "execution_count": 167,
   "id": "1427238b-075d-4289-9bdc-98062ef6765d",
   "metadata": {},
   "outputs": [
    {
     "data": {
      "text/plain": [
       "array([[0.00177814],\n",
       "       [0.00344156],\n",
       "       [0.00339564],\n",
       "       ...,\n",
       "       [0.9999807 ],\n",
       "       [1.        ],\n",
       "       [1.        ]], dtype=float32)"
      ]
     },
     "execution_count": 167,
     "metadata": {},
     "output_type": "execute_result"
    }
   ],
   "source": [
    "predictions"
   ]
  },
  {
   "cell_type": "code",
   "execution_count": 168,
   "id": "36f80801-570b-41d5-828f-2b7a0d67028a",
   "metadata": {},
   "outputs": [
    {
     "data": {
      "text/plain": [
       "array([0, 0, 0, ..., 1, 1, 1])"
      ]
     },
     "execution_count": 168,
     "metadata": {},
     "output_type": "execute_result"
    }
   ],
   "source": [
    "true_classes"
   ]
  },
  {
   "cell_type": "code",
   "execution_count": 169,
   "id": "2fbce687-65cf-45ad-bf6b-23a95cd7440a",
   "metadata": {
    "scrolled": true
   },
   "outputs": [
    {
     "name": "stdout",
     "output_type": "stream",
     "text": [
      "Requirement already satisfied: scikit-learn in c:\\anaconda3\\envs\\projectvale\\lib\\site-packages (1.3.2)\n",
      "Requirement already satisfied: numpy<2.0,>=1.17.3 in c:\\anaconda3\\envs\\projectvale\\lib\\site-packages (from scikit-learn) (1.26.2)\n",
      "Requirement already satisfied: scipy>=1.5.0 in c:\\anaconda3\\envs\\projectvale\\lib\\site-packages (from scikit-learn) (1.11.4)\n",
      "Requirement already satisfied: joblib>=1.1.1 in c:\\anaconda3\\envs\\projectvale\\lib\\site-packages (from scikit-learn) (1.3.2)\n",
      "Requirement already satisfied: threadpoolctl>=2.0.0 in c:\\anaconda3\\envs\\projectvale\\lib\\site-packages (from scikit-learn) (3.2.0)\n"
     ]
    }
   ],
   "source": [
    "!pip install scikit-learn"
   ]
  },
  {
   "cell_type": "code",
   "execution_count": 170,
   "id": "6b9a5b36-dec6-4c18-bff3-a27917687f86",
   "metadata": {
    "scrolled": true
   },
   "outputs": [
    {
     "name": "stdout",
     "output_type": "stream",
     "text": [
      "Requirement already satisfied: matplotlib in c:\\anaconda3\\envs\\projectvale\\lib\\site-packages (3.8.2)\n",
      "Requirement already satisfied: contourpy>=1.0.1 in c:\\anaconda3\\envs\\projectvale\\lib\\site-packages (from matplotlib) (1.2.0)\n",
      "Requirement already satisfied: cycler>=0.10 in c:\\anaconda3\\envs\\projectvale\\lib\\site-packages (from matplotlib) (0.12.1)\n",
      "Requirement already satisfied: fonttools>=4.22.0 in c:\\anaconda3\\envs\\projectvale\\lib\\site-packages (from matplotlib) (4.46.0)\n",
      "Requirement already satisfied: kiwisolver>=1.3.1 in c:\\anaconda3\\envs\\projectvale\\lib\\site-packages (from matplotlib) (1.4.5)\n",
      "Requirement already satisfied: numpy<2,>=1.21 in c:\\anaconda3\\envs\\projectvale\\lib\\site-packages (from matplotlib) (1.26.2)\n",
      "Requirement already satisfied: packaging>=20.0 in c:\\anaconda3\\envs\\projectvale\\lib\\site-packages (from matplotlib) (23.2)\n",
      "Requirement already satisfied: pillow>=8 in c:\\anaconda3\\envs\\projectvale\\lib\\site-packages (from matplotlib) (10.1.0)\n",
      "Requirement already satisfied: pyparsing>=2.3.1 in c:\\anaconda3\\envs\\projectvale\\lib\\site-packages (from matplotlib) (3.1.1)\n",
      "Requirement already satisfied: python-dateutil>=2.7 in c:\\anaconda3\\envs\\projectvale\\lib\\site-packages (from matplotlib) (2.8.2)\n",
      "Requirement already satisfied: six>=1.5 in c:\\anaconda3\\envs\\projectvale\\lib\\site-packages (from python-dateutil>=2.7->matplotlib) (1.16.0)\n"
     ]
    }
   ],
   "source": [
    "!pip install matplotlib"
   ]
  },
  {
   "cell_type": "code",
   "execution_count": 171,
   "id": "d2e24a5c-6b85-4ad1-a320-e8d2784f8747",
   "metadata": {},
   "outputs": [],
   "source": [
    "from sklearn.metrics import confusion_matrix, roc_curve, auc, f1_score, accuracy_score\n",
    "import matplotlib.pyplot as plt\n",
    "import numpy as np"
   ]
  },
  {
   "cell_type": "code",
   "execution_count": 172,
   "id": "f7722deb-d6d5-46bb-a3f1-f5d56f296295",
   "metadata": {},
   "outputs": [],
   "source": [
    "# Obter as classes verdadeiras\n",
    "true_classes = test_generator.classes\n"
   ]
  },
  {
   "cell_type": "code",
   "execution_count": 173,
   "id": "7082fd34-e811-42b4-918b-5b68ddf82f94",
   "metadata": {},
   "outputs": [
    {
     "data": {
      "text/plain": [
       "0.992875"
      ]
     },
     "execution_count": 173,
     "metadata": {},
     "output_type": "execute_result"
    }
   ],
   "source": [
    "accuracy_score(true_classes, predicted_classes)"
   ]
  },
  {
   "cell_type": "code",
   "execution_count": null,
   "id": "0f0f7837-3a3b-4e53-8602-9b5a54efc77f",
   "metadata": {},
   "outputs": [],
   "source": []
  },
  {
   "cell_type": "code",
   "execution_count": 174,
   "id": "9192f938-f119-4f81-8516-259235a6ee2a",
   "metadata": {},
   "outputs": [
    {
     "data": {
      "image/png": "[encoded data removed]",
      "text/plain": [
       "<Figure size 600x600 with 2 Axes>"
      ]
     },
     "metadata": {},
     "output_type": "display_data"
    },
    {
     "data": {
      "image/png": "[encoded data removed]",
      "text/plain": [
       "<Figure size 600x600 with 1 Axes>"
      ]
     },
     "metadata": {},
     "output_type": "display_data"
    }
   ],
   "source": [
    "# Calcular a matriz de confusão\n",
    "conf_matrix = confusion_matrix(true_classes, predicted_classes)\n",
    "\n",
    "# Plotar a matriz de confusão\n",
    "plt.figure(figsize=(6, 6))\n",
    "plt.imshow(conf_matrix, cmap=plt.cm.Blues)\n",
    "plt.title('Matriz de Confusão')\n",
    "plt.colorbar()\n",
    "plt.xlabel('Predito')\n",
    "plt.ylabel('Verdadeiro')\n",
    "plt.xticks([0, 1], ['Negativo', 'Positivo'])\n",
    "plt.yticks([0, 1], ['Negativo', 'Positivo'])\n",
    "\n",
    "# Adicionar os números para cada célula\n",
    "for i in range(2):\n",
    "    for j in range(2):\n",
    "        plt.text(j, i, conf_matrix[i, j],\n",
    "                 ha=\"center\", va=\"center\", color=\"red\")\n",
    "\n",
    "plt.show()\n",
    "\n",
    "# Calcular a curva ROC\n",
    "fpr, tpr, thresholds = roc_curve(true_classes, predictions)\n",
    "roc_auc = auc(fpr, tpr)\n",
    "\n",
    "# Plotar a curva ROC\n",
    "plt.figure(figsize=(6, 6))\n",
    "plt.plot(fpr, tpr, color='darkorange', lw=2, label=f'AUC = {roc_auc:.2f}')\n",
    "plt.plot([0, 1], [0, 1], color='navy', lw=2, linestyle='--')\n",
    "plt.title('Curva ROC')\n",
    "plt.xlabel('Taxa de Falso Positivo')\n",
    "plt.ylabel('Taxa de Verdadeiro Positivo')\n",
    "plt.legend(loc=\"lower right\")\n",
    "plt.show()"
   ]
  },
  {
   "cell_type": "code",
   "execution_count": null,
   "id": "52679c33-c765-4cde-830c-248a62d09b09",
   "metadata": {},
   "outputs": [],
   "source": []
  },
  {
   "cell_type": "code",
   "execution_count": null,
   "id": "d328ceb9-b49d-41a5-b768-44f197359c87",
   "metadata": {},
   "outputs": [],
   "source": []
  }
 ],
 "metadata": {
  "kernelspec": {
   "display_name": "Python 3 (ipykernel)",
   "language": "python",
   "name": "python3"
  },
  "language_info": {
   "codemirror_mode": {
    "name": "ipython",
    "version": 3
   },
   "file_extension": ".py",
   "mimetype": "text/x-python",
   "name": "python",
   "nbconvert_exporter": "python",
   "pygments_lexer": "ipython3",
   "version": "3.10.13"
  }
 },
 "nbformat": 4,
 "nbformat_minor": 5
}
